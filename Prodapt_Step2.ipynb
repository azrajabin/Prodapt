{
 "cells": [
  {
   "cell_type": "markdown",
   "metadata": {},
   "source": [
    "# Importintg"
   ]
  },
  {
   "cell_type": "code",
   "execution_count": 1,
   "metadata": {},
   "outputs": [],
   "source": [
    "import pyspark \n",
    "import matplotlib.pyplot as plt\n",
    "import findspark\n",
    "import pandas as pd\n",
    "from pyspark.sql.types import *\n",
    "from pyspark.sql.functions import *"
   ]
  },
  {
   "cell_type": "markdown",
   "metadata": {},
   "source": [
    "# Spark setup Check"
   ]
  },
  {
   "cell_type": "code",
   "execution_count": 2,
   "metadata": {},
   "outputs": [],
   "source": [
    "import findspark\n",
    "\n",
    "findspark.init()\n",
    "\n"
   ]
  },
  {
   "cell_type": "code",
   "execution_count": 3,
   "metadata": {},
   "outputs": [],
   "source": [
    "\n",
    "from pyspark.sql import SparkSession\n",
    "\n",
    "spark = SparkSession.builder.getOrCreate()\n",
    "\n",
    "# df = spark.sql(\"select 'spark' as hello \")\n",
    "\n",
    "# df.show()\n"
   ]
  },
  {
   "cell_type": "markdown",
   "metadata": {},
   "source": [
    "## Data Read"
   ]
  },
  {
   "cell_type": "code",
   "execution_count": 4,
   "metadata": {
    "scrolled": true
   },
   "outputs": [
    {
     "name": "stdout",
     "output_type": "stream",
     "text": [
      "root\n",
      " |-- _c0: integer (nullable = true)\n",
      " |-- location_id: string (nullable = true)\n",
      " |-- client_mac: string (nullable = true)\n",
      " |-- freq_band: string (nullable = true)\n",
      " |-- mac_address: string (nullable = true)\n",
      " |-- country: string (nullable = true)\n",
      " |-- vendor_name: string (nullable = true)\n",
      " |-- rssi_percs_25: double (nullable = true)\n",
      " |-- rssi_percs_75: double (nullable = true)\n",
      " |-- isp: string (nullable = true)\n",
      " |-- total_bytes_tx: double (nullable = true)\n",
      " |-- total_bytes_rx: double (nullable = true)\n",
      " |-- ts: string (nullable = true)\n",
      " |-- txWeightedPhyRate: double (nullable = true)\n",
      " |-- rxWeightedPhyRate: double (nullable = true)\n",
      " |-- idtype: string (nullable = true)\n",
      " |-- is_static: boolean (nullable = true)\n",
      " |-- weighted_prr_tx: double (nullable = true)\n",
      " |-- weighted_prr_rx: double (nullable = true)\n",
      " |-- num_samples: integer (nullable = true)\n",
      " |-- is_connected_to_pod: boolean (nullable = true)\n",
      " |-- pod_serial: string (nullable = true)\n",
      " |-- control_group: string (nullable = true)\n",
      " |-- bandCap2G: boolean (nullable = true)\n",
      " |-- bandCap5G: boolean (nullable = true)\n",
      " |-- maxMcs: double (nullable = true)\n",
      " |-- maxNss: double (nullable = true)\n",
      " |-- maxChWidth: double (nullable = true)\n",
      " |-- phyMode: double (nullable = true)\n",
      " |-- isBTMSupported: boolean (nullable = true)\n",
      "\n"
     ]
    }
   ],
   "source": [
    "\n",
    "df= spark.read.load(\n",
    "    \"prodapt/\", \n",
    "    format=\"csv\", sep=\",\", inferSchema=\"true\", header=\"true\"\n",
    ")\n",
    "\n",
    "df.printSchema()"
   ]
  },
  {
   "cell_type": "markdown",
   "metadata": {},
   "source": [
    "## Frequency Band percentage"
   ]
  },
  {
   "cell_type": "code",
   "execution_count": 8,
   "metadata": {},
   "outputs": [
    {
     "name": "stdout",
     "output_type": "stream",
     "text": [
      "+---------+-------------+------------------+\n",
      "|freq_band|countFreqBand|perc_countFreqBand|\n",
      "+---------+-------------+------------------+\n",
      "|     2.4G|       314735| 44.92389337078716|\n",
      "|       5G|       385861| 55.07610662921284|\n",
      "+---------+-------------+------------------+\n",
      "\n"
     ]
    }
   ],
   "source": [
    "tot = df.count()\n",
    "df.groupBy(\"freq_band\") \\\n",
    "  .count() \\\n",
    "  .withColumnRenamed('count', 'countFreqBand') \\\n",
    "  .withColumn('perc_countFreqBand', (col('countFreqBand') / tot) * 100 ) \\\n",
    "  .show()"
   ]
  },
  {
   "cell_type": "markdown",
   "metadata": {},
   "source": [
    "Now model the a future hypothetical scenario that could be caused after the new Band Steering feature is activated. In this future scenario the\n",
    "following four conditions will be met:\n",
    "• Every Device connected to 2.4 GHz with an RSSI >= -60 dB connects to 5 GHz\n",
    "• Every Device connected to 5 GHz with an RSSI <= -75 dB connects to 2.4 GHz\n",
    "• Every Device connected to 5 GHz with an RSSI > -75 dB stays on 5GHz\n",
    "• Every Device connected to 2.4 GHz with an RSSI < -60 dB stays on 2.4GHz\n"
   ]
  },
  {
   "cell_type": "markdown",
   "metadata": {},
   "source": [
    "## Band steering scenario"
   ]
  },
  {
   "cell_type": "code",
   "execution_count": 28,
   "metadata": {},
   "outputs": [],
   "source": [
    "df = df.withColumn(\n",
    "    'NEWfreq_band',\n",
    "    when((col(\"freq_band\") == '2.4G') & (col(\"rssi_percs_25\") >=-60), '5G')\\\n",
    "    .when((col(\"freq_band\") == '2.4G') & (col(\"rssi_percs_25\") < -60), '2.4G')\\\n",
    "    .when((col(\"freq_band\") == '5G') & (col('rssi_percs_25') >-75), '5G')\\\n",
    "    .when((col(\"freq_band\") == '5G') & (col('rssi_percs_25') <= -75), '2.4G')\\\n",
    "    .otherwise(col(\"freq_band\"))\n",
    "\n",
    ")\n"
   ]
  },
  {
   "cell_type": "code",
   "execution_count": 19,
   "metadata": {
    "scrolled": false
   },
   "outputs": [
    {
     "data": {
      "text/plain": [
       "DataFrame[summary: string, _c0: string, location_id: string, client_mac: string, freq_band: string, mac_address: string, country: string, vendor_name: string, rssi_percs_25: string, rssi_percs_75: string, isp: string, total_bytes_tx: string, total_bytes_rx: string, ts: string, txWeightedPhyRate: string, rxWeightedPhyRate: string, idtype: string, weighted_prr_tx: string, weighted_prr_rx: string, num_samples: string, pod_serial: string, control_group: string, maxMcs: string, maxNss: string, maxChWidth: string, phyMode: string, NEWfreq_band: string]"
      ]
     },
     "execution_count": 19,
     "metadata": {},
     "output_type": "execute_result"
    }
   ],
   "source": [
    "df.summary()"
   ]
  },
  {
   "cell_type": "markdown",
   "metadata": {},
   "source": [
    "## New Frequency percentage\n",
    "after putting into effect the above conditions, we were able to increase 5G users by 15%"
   ]
  },
  {
   "cell_type": "code",
   "execution_count": 29,
   "metadata": {
    "scrolled": true
   },
   "outputs": [
    {
     "name": "stdout",
     "output_type": "stream",
     "text": [
      "+------------+-------------+------------------+\n",
      "|NEWfreq_band|countFreqBand|perc_countFreqBand|\n",
      "+------------+-------------+------------------+\n",
      "|        2.4G|       208277|29.728545409908136|\n",
      "|          5G|       492319| 70.27145459009186|\n",
      "+------------+-------------+------------------+\n",
      "\n"
     ]
    }
   ],
   "source": [
    "tot = df.count()\n",
    "df.groupBy(\"NEWfreq_band\") \\\n",
    "  .count() \\\n",
    "  .withColumnRenamed('count', 'countFreqBand') \\\n",
    "  .withColumn('perc_countFreqBand', (col('countFreqBand') / tot) * 100 ) \\\n",
    "  .show()"
   ]
  }
 ],
 "metadata": {
  "kernelspec": {
   "display_name": "Python 3",
   "language": "python",
   "name": "python3"
  },
  "language_info": {
   "codemirror_mode": {
    "name": "ipython",
    "version": 3
   },
   "file_extension": ".py",
   "mimetype": "text/x-python",
   "name": "python",
   "nbconvert_exporter": "python",
   "pygments_lexer": "ipython3",
   "version": "3.7.1"
  }
 },
 "nbformat": 4,
 "nbformat_minor": 2
}

{
 "cells": [
  {
   "cell_type": "markdown",
   "metadata": {},
   "source": [
    "# Importintg"
   ]
  },
  {
   "cell_type": "code",
   "execution_count": 1,
   "metadata": {},
   "outputs": [],
   "source": [
    "import pyspark \n",
    "import matplotlib.pyplot as plt\n",
    "import findspark\n",
    "import pandas as pd\n",
    "from pyspark.sql.types import *\n",
    "from pyspark.sql.functions import *\n",
    "%matplotlib inline\n",
    "import numpy as np"
   ]
  },
  {
   "cell_type": "markdown",
   "metadata": {},
   "source": [
    "# Spark setup Check"
   ]
  },
  {
   "cell_type": "code",
   "execution_count": 2,
   "metadata": {},
   "outputs": [],
   "source": [
    "import findspark\n",
    "\n",
    "findspark.init()"
   ]
  },
  {
   "cell_type": "code",
   "execution_count": 3,
   "metadata": {},
   "outputs": [],
   "source": [
    "\n",
    "from pyspark.sql import SparkSession\n",
    "\n",
    "spark = SparkSession.builder.getOrCreate()\n",
    "\n",
    "# df = spark.sql(\"select 'spark' as hello \")\n",
    "\n",
    "# df.show()"
   ]
  },
  {
   "cell_type": "markdown",
   "metadata": {},
   "source": [
    "# Data Read"
   ]
  },
  {
   "cell_type": "code",
   "execution_count": 4,
   "metadata": {},
   "outputs": [],
   "source": [
    "df= spark.read.load(\n",
    "    \"prodapt/\", \n",
    "    format=\"csv\", sep=\",\", inferSchema=\"true\", header=\"true\"\n",
    ")"
   ]
  },
  {
   "cell_type": "code",
   "execution_count": 17,
   "metadata": {
    "collapsed": true
   },
   "outputs": [
    {
     "name": "stdout",
     "output_type": "stream",
     "text": [
      "root\n",
      " |-- _c0: integer (nullable = true)\n",
      " |-- location_id: string (nullable = true)\n",
      " |-- client_mac: string (nullable = true)\n",
      " |-- freq_band: string (nullable = true)\n",
      " |-- mac_address: string (nullable = true)\n",
      " |-- country: string (nullable = true)\n",
      " |-- vendor_name: string (nullable = true)\n",
      " |-- rssi_percs_25: double (nullable = true)\n",
      " |-- rssi_percs_75: double (nullable = true)\n",
      " |-- isp: string (nullable = true)\n",
      " |-- total_bytes_tx: double (nullable = true)\n",
      " |-- total_bytes_rx: double (nullable = true)\n",
      " |-- ts: string (nullable = true)\n",
      " |-- txWeightedPhyRate: double (nullable = true)\n",
      " |-- rxWeightedPhyRate: double (nullable = true)\n",
      " |-- idtype: string (nullable = true)\n",
      " |-- is_static: boolean (nullable = true)\n",
      " |-- weighted_prr_tx: double (nullable = true)\n",
      " |-- weighted_prr_rx: double (nullable = true)\n",
      " |-- num_samples: integer (nullable = true)\n",
      " |-- is_connected_to_pod: boolean (nullable = true)\n",
      " |-- pod_serial: string (nullable = true)\n",
      " |-- control_group: string (nullable = true)\n",
      " |-- bandCap2G: boolean (nullable = true)\n",
      " |-- bandCap5G: boolean (nullable = true)\n",
      " |-- maxMcs: double (nullable = true)\n",
      " |-- maxNss: double (nullable = true)\n",
      " |-- maxChWidth: double (nullable = true)\n",
      " |-- phyMode: double (nullable = true)\n",
      " |-- isBTMSupported: boolean (nullable = true)\n",
      "\n"
     ]
    }
   ],
   "source": [
    "df.printSchema()"
   ]
  },
  {
   "cell_type": "code",
   "execution_count": 11,
   "metadata": {},
   "outputs": [
    {
     "data": {
      "text/plain": [
       "700596"
      ]
     },
     "execution_count": 11,
     "metadata": {},
     "output_type": "execute_result"
    }
   ],
   "source": [
    "df.count()"
   ]
  },
  {
   "cell_type": "code",
   "execution_count": 13,
   "metadata": {
    "scrolled": true
   },
   "outputs": [
    {
     "data": {
      "text/plain": [
       "DataFrame[summary: string, _c0: string, location_id: string, client_mac: string, freq_band: string, mac_address: string, country: string, vendor_name: string, rssi_percs_25: string, rssi_percs_75: string, isp: string, total_bytes_tx: string, total_bytes_rx: string, ts: string, txWeightedPhyRate: string, rxWeightedPhyRate: string, idtype: string, weighted_prr_tx: string, weighted_prr_rx: string, num_samples: string, pod_serial: string, control_group: string, maxMcs: string, maxNss: string, maxChWidth: string, phyMode: string]"
      ]
     },
     "execution_count": 13,
     "metadata": {},
     "output_type": "execute_result"
    }
   ],
   "source": [
    "df.summary()"
   ]
  },
  {
   "cell_type": "markdown",
   "metadata": {},
   "source": [
    "Produce a histogram (graph and CSV) for the average Tx and Rx Weighed Phy Rate between -85 and -65 dB in 1 dB steps\n",
    "(hint: this should produce 21 outputs)"
   ]
  },
  {
   "cell_type": "code",
   "execution_count": 50,
   "metadata": {
    "scrolled": false
   },
   "outputs": [
    {
     "data": {
      "text/plain": [
       "231546"
      ]
     },
     "execution_count": 50,
     "metadata": {},
     "output_type": "execute_result"
    }
   ],
   "source": [
    "df2.count()"
   ]
  },
  {
   "cell_type": "markdown",
   "metadata": {},
   "source": [
    "## Filter relevant RSSI values"
   ]
  },
  {
   "cell_type": "code",
   "execution_count": 6,
   "metadata": {},
   "outputs": [],
   "source": [
    "df2=df.filter(df.rssi_percs_25.between(-85,-65))"
   ]
  },
  {
   "cell_type": "code",
   "execution_count": 7,
   "metadata": {},
   "outputs": [],
   "source": [
    "df2=df2.select('rssi_percs_25','txWeightedPhyRate','rxWeightedPhyRate')"
   ]
  },
  {
   "cell_type": "code",
   "execution_count": 8,
   "metadata": {},
   "outputs": [],
   "source": [
    "df2=df2.withColumn(\"rssi_percs_25\", df2[\"rssi_percs_25\"].cast('long'))"
   ]
  },
  {
   "cell_type": "code",
   "execution_count": 58,
   "metadata": {},
   "outputs": [
    {
     "data": {
      "text/plain": [
       "Column<'rssi_percs_25'>"
      ]
     },
     "execution_count": 58,
     "metadata": {},
     "output_type": "execute_result"
    }
   ],
   "source": [
    "df2['rssi_percs_25']"
   ]
  },
  {
   "cell_type": "code",
   "execution_count": 74,
   "metadata": {
    "scrolled": true
   },
   "outputs": [
    {
     "data": {
      "text/plain": [
       "DataFrame[rssi_percs_25: bigint, count: bigint]"
      ]
     },
     "execution_count": 74,
     "metadata": {},
     "output_type": "execute_result"
    }
   ],
   "source": [
    "df2.groupBy(\"rssi_percs_25\").count()"
   ]
  },
  {
   "cell_type": "markdown",
   "metadata": {},
   "source": [
    "## Average value of Tx and Rx"
   ]
  },
  {
   "cell_type": "code",
   "execution_count": 9,
   "metadata": {},
   "outputs": [],
   "source": [
    "df3=df2.groupBy(\"rssi_percs_25\").avg()"
   ]
  },
  {
   "cell_type": "code",
   "execution_count": 10,
   "metadata": {},
   "outputs": [],
   "source": [
    "df3=df3.toPandas()"
   ]
  },
  {
   "cell_type": "code",
   "execution_count": 124,
   "metadata": {
    "scrolled": true
   },
   "outputs": [
    {
     "name": "stdout",
     "output_type": "stream",
     "text": [
      "<class 'pandas.core.frame.DataFrame'>\n",
      "Int64Index: 21 entries, 14 to 0\n",
      "Data columns (total 4 columns):\n",
      "rssi_percs_25             21 non-null int64\n",
      "avg(rssi_percs_25)        21 non-null float64\n",
      "avg(txWeightedPhyRate)    21 non-null float64\n",
      "avg(rxWeightedPhyRate)    21 non-null float64\n",
      "dtypes: float64(3), int64(1)\n",
      "memory usage: 840.0 bytes\n"
     ]
    }
   ],
   "source": [
    "df3.info()"
   ]
  },
  {
   "cell_type": "code",
   "execution_count": 23,
   "metadata": {},
   "outputs": [
    {
     "data": {
      "text/html": [
       "<div>\n",
       "<style scoped>\n",
       "    .dataframe tbody tr th:only-of-type {\n",
       "        vertical-align: middle;\n",
       "    }\n",
       "\n",
       "    .dataframe tbody tr th {\n",
       "        vertical-align: top;\n",
       "    }\n",
       "\n",
       "    .dataframe thead th {\n",
       "        text-align: right;\n",
       "    }\n",
       "</style>\n",
       "<table border=\"1\" class=\"dataframe\">\n",
       "  <thead>\n",
       "    <tr style=\"text-align: right;\">\n",
       "      <th></th>\n",
       "      <th>rssi_percs_25</th>\n",
       "      <th>avg(rssi_percs_25)</th>\n",
       "      <th>avg(txWeightedPhyRate)</th>\n",
       "      <th>avg(rxWeightedPhyRate)</th>\n",
       "    </tr>\n",
       "  </thead>\n",
       "  <tbody>\n",
       "    <tr>\n",
       "      <th>14</th>\n",
       "      <td>-85</td>\n",
       "      <td>-85.0</td>\n",
       "      <td>37.979912</td>\n",
       "      <td>18.161817</td>\n",
       "    </tr>\n",
       "    <tr>\n",
       "      <th>5</th>\n",
       "      <td>-84</td>\n",
       "      <td>-84.0</td>\n",
       "      <td>42.833057</td>\n",
       "      <td>19.757145</td>\n",
       "    </tr>\n",
       "    <tr>\n",
       "      <th>13</th>\n",
       "      <td>-83</td>\n",
       "      <td>-83.0</td>\n",
       "      <td>57.683051</td>\n",
       "      <td>26.123776</td>\n",
       "    </tr>\n",
       "    <tr>\n",
       "      <th>4</th>\n",
       "      <td>-82</td>\n",
       "      <td>-82.0</td>\n",
       "      <td>77.174767</td>\n",
       "      <td>33.356074</td>\n",
       "    </tr>\n",
       "    <tr>\n",
       "      <th>6</th>\n",
       "      <td>-81</td>\n",
       "      <td>-81.0</td>\n",
       "      <td>97.912595</td>\n",
       "      <td>41.445940</td>\n",
       "    </tr>\n",
       "  </tbody>\n",
       "</table>\n",
       "</div>"
      ],
      "text/plain": [
       "    rssi_percs_25  avg(rssi_percs_25)  avg(txWeightedPhyRate)  \\\n",
       "14            -85               -85.0               37.979912   \n",
       "5             -84               -84.0               42.833057   \n",
       "13            -83               -83.0               57.683051   \n",
       "4             -82               -82.0               77.174767   \n",
       "6             -81               -81.0               97.912595   \n",
       "\n",
       "    avg(rxWeightedPhyRate)  \n",
       "14               18.161817  \n",
       "5                19.757145  \n",
       "13               26.123776  \n",
       "4                33.356074  \n",
       "6                41.445940  "
      ]
     },
     "execution_count": 23,
     "metadata": {},
     "output_type": "execute_result"
    }
   ],
   "source": [
    "df3.head()"
   ]
  },
  {
   "cell_type": "code",
   "execution_count": 11,
   "metadata": {},
   "outputs": [],
   "source": [
    "df3.sort_values(by=['rssi_percs_25'],inplace=True)"
   ]
  },
  {
   "cell_type": "markdown",
   "metadata": {},
   "source": [
    "## Exporting output to CSV"
   ]
  },
  {
   "cell_type": "code",
   "execution_count": 19,
   "metadata": {},
   "outputs": [],
   "source": [
    "df3.to_csv('histogram_rx_tx.csv',index=False)"
   ]
  },
  {
   "cell_type": "markdown",
   "metadata": {},
   "source": [
    "## Plotting values"
   ]
  },
  {
   "cell_type": "code",
   "execution_count": 22,
   "metadata": {
    "scrolled": false
   },
   "outputs": [
    {
     "data": {
      "image/png": "[encoded data removed]",
      "text/plain": [
       "<Figure size 432x288 with 1 Axes>"
      ]
     },
     "metadata": {},
     "output_type": "display_data"
    }
   ],
   "source": [
    "# libraries & dataset\n",
    "import seaborn as sns\n",
    "import matplotlib.pyplot as plt\n",
    "# set a grey background (use sns.set_theme() if seaborn version 0.11.0 or above) \n",
    "sns.set(style=\"darkgrid\")\n",
    "df = sns.load_dataset(\"iris\")\n",
    "\n",
    "sns.barplot(data=df3,x=\"rssi_percs_25\", y=\"avg(txWeightedPhyRate)\", color=\"skyblue\", label=\"avg_tx\")\n",
    "sns.barplot(data=df3,x=\"rssi_percs_25\", y=\"avg(rxWeightedPhyRate)\", color=\"red\", label=\"avg_rx\")\n",
    "\n",
    "plt.legend() \n",
    "plt.show()"
   ]
  },
  {
   "cell_type": "markdown",
   "metadata": {},
   "source": [
    "## data ingestion for Grafana visualization"
   ]
  },
  {
   "cell_type": "code",
   "execution_count": null,
   "metadata": {},
   "outputs": [],
   "source": [
    "from elasticsearch import ElasticSearch\n",
    "\n",
    "df3['@timestamp']=datetime.datetime.utcnow().isoformat()\n",
    "es= ElasticSearch([\"xyz\",\"abc\"],\n",
    "                 use_ssl=True,\n",
    "                  verify_certs=False,\n",
    "                  http_auth=('elastic','changeme'),\n",
    "                  \n",
    "                 )\n",
    "for doc in df3.to_dict(orient=\"records\"):\n",
    "    es.index(index='tx_rx_stats-'+str(datetime.datetime.now().date.strftime('%Y')),doc_type='_doc',body=doc)"
   ]
  }
 ],
 "metadata": {
  "kernelspec": {
   "display_name": "Python 3",
   "language": "python",
   "name": "python3"
  },
  "language_info": {
   "codemirror_mode": {
    "name": "ipython",
    "version": 3
   },
   "file_extension": ".py",
   "mimetype": "text/x-python",
   "name": "python",
   "nbconvert_exporter": "python",
   "pygments_lexer": "ipython3",
   "version": "3.7.1"
  }
 },
 "nbformat": 4,
 "nbformat_minor": 2
}
